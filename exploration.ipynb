{
 "metadata": {
  "language_info": {
   "codemirror_mode": {
    "name": "ipython",
    "version": 3
   },
   "file_extension": ".py",
   "mimetype": "text/x-python",
   "name": "python",
   "nbconvert_exporter": "python",
   "pygments_lexer": "ipython3",
   "version": "3.8.6"
  },
  "orig_nbformat": 2,
  "kernelspec": {
   "name": "python386jvsc74a57bd0091abb3ec598e3bebc697664659a9d9710d0184de084d3a44708972fe0559668",
   "display_name": "Python 3.8.6 64-bit ('shims': pyenv)"
  }
 },
 "nbformat": 4,
 "nbformat_minor": 2,
 "cells": [
  {
   "cell_type": "code",
   "execution_count": 1,
   "metadata": {},
   "outputs": [],
   "source": [
    "import requests\n",
    "import utils\n",
    "\n",
    "api_file = 'api-key/key'\n",
    "\n",
    "my_key = utils.get_file_contents(api_file)\n",
    "headers = {'X-Api-Key': my_key}\n",
    "base_uri = 'https://api.pokemontcg.io/v2/'"
   ]
  },
  {
   "cell_type": "code",
   "execution_count": 3,
   "metadata": {},
   "outputs": [],
   "source": [
    "def get_sets(query):\n",
    "    '''queries the sets and stores a list of all sets ids and card numbers'''\n",
    "    params = {\n",
    "        'q': query,\n",
    "        'orderBy': 'releaseDate'\n",
    "    }\n",
    "\n",
    "    endpoint = 'sets/'\n",
    "    url = base_uri + endpoint\n",
    "    response = requests.get(url, params=params, headers=headers).json()['data']\n",
    "    #list_of_sets = [(set_['id'], set_['name'], set_['total'], set_['releaseDate']) for set_ in response]\n",
    "    return response"
   ]
  },
  {
   "cell_type": "code",
   "execution_count": 4,
   "metadata": {},
   "outputs": [],
   "source": [
    "list_of_sets = get_sets('')"
   ]
  },
  {
   "cell_type": "code",
   "execution_count": 7,
   "metadata": {},
   "outputs": [
    {
     "output_type": "execute_result",
     "data": {
      "text/plain": [
       "122"
      ]
     },
     "metadata": {},
     "execution_count": 7
    }
   ],
   "source": [
    "len(list_of_sets)"
   ]
  }
 ]
}
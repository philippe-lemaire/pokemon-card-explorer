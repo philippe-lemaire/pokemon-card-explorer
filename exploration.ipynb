{
 "metadata": {
  "language_info": {
   "codemirror_mode": {
    "name": "ipython",
    "version": 3
   },
   "file_extension": ".py",
   "mimetype": "text/x-python",
   "name": "python",
   "nbconvert_exporter": "python",
   "pygments_lexer": "ipython3",
   "version": "3.8.6"
  },
  "orig_nbformat": 2,
  "kernelspec": {
   "name": "python386jvsc74a57bd0091abb3ec598e3bebc697664659a9d9710d0184de084d3a44708972fe0559668",
   "display_name": "Python 3.8.6 64-bit ('shims': pyenv)"
  }
 },
 "nbformat": 4,
 "nbformat_minor": 2,
 "cells": [
  {
   "cell_type": "code",
   "execution_count": 5,
   "metadata": {},
   "outputs": [],
   "source": [
    "import requests\n",
    "import utils\n",
    "import csv\n",
    "import pandas as pd\n",
    "\n",
    "api_file = 'api-key/key'\n",
    "\n",
    "my_key = utils.get_file_contents(api_file)\n",
    "headers = {'X-Api-Key': my_key}\n",
    "base_uri = 'https://api.pokemontcg.io/v2/'"
   ]
  },
  {
   "cell_type": "code",
   "execution_count": 8,
   "metadata": {},
   "outputs": [],
   "source": [
    "def get_sets(query):\n",
    "    '''queries the sets and stores a list of all sets ids and card numbers'''\n",
    "    params = {\n",
    "        'q': query,\n",
    "        'orderBy': 'releaseDate'\n",
    "    }\n",
    "\n",
    "    endpoint = 'sets/'\n",
    "    url = base_uri + endpoint\n",
    "    response = requests.get(url, params=params, headers=headers).json()['data']\n",
    "    return response"
   ]
  },
  {
   "cell_type": "code",
   "execution_count": 9,
   "metadata": {},
   "outputs": [],
   "source": [
    "list_of_sets = get_sets('')"
   ]
  },
  {
   "cell_type": "code",
   "execution_count": 10,
   "metadata": {},
   "outputs": [
    {
     "output_type": "execute_result",
     "data": {
      "text/plain": [
       "122"
      ]
     },
     "metadata": {},
     "execution_count": 10
    }
   ],
   "source": [
    "len(list_of_sets)"
   ]
  },
  {
   "cell_type": "code",
   "execution_count": 18,
   "metadata": {},
   "outputs": [],
   "source": [
    "sets_df = pd.read_csv('data/sets.csv')"
   ]
  },
  {
   "cell_type": "code",
   "execution_count": 6,
   "metadata": {},
   "outputs": [],
   "source": [
    "def search_cards(query):\n",
    "    '''returns a list of cards (as dicts) based on the query'''\n",
    "    params = {\n",
    "        'q': query,\n",
    "        'orderBy': 'releaseDate'\n",
    "    }\n",
    "    endpoint = 'cards/'\n",
    "    url = base_uri + endpoint\n",
    "    response = requests.get(url, params=params, headers=headers).json()['data']\n",
    "    return response"
   ]
  },
  {
   "cell_type": "code",
   "execution_count": 7,
   "metadata": {},
   "outputs": [],
   "source": [
    "dragons = search_cards('supertype:pokemon types:dragon')"
   ]
  },
  {
   "cell_type": "code",
   "execution_count": 9,
   "metadata": {},
   "outputs": [],
   "source": [
    "dragons_df = pd.DataFrame(dragons)"
   ]
  },
  {
   "cell_type": "code",
   "execution_count": 11,
   "metadata": {},
   "outputs": [
    {
     "output_type": "execute_result",
     "data": {
      "text/plain": [
       "(250, 25)"
      ]
     },
     "metadata": {},
     "execution_count": 11
    }
   ],
   "source": [
    "dragons_df.shape"
   ]
  },
  {
   "cell_type": "code",
   "execution_count": 18,
   "metadata": {},
   "outputs": [
    {
     "output_type": "execute_result",
     "data": {
      "text/plain": [
       "0      [{'name': 'Deep Growl', 'cost': ['Darkness'], ...\n",
       "1      [{'name': 'Ascension', 'cost': ['Fighting'], '...\n",
       "2      [{'name': 'Dragon Claw', 'cost': ['Lightning']...\n",
       "3      [{'name': 'Rainbow Shower', 'cost': ['Colorles...\n",
       "4      [{'name': 'Mach Flight', 'cost': ['Psychic', '...\n",
       "                             ...                        \n",
       "245    [{'name': 'Knock Away', 'cost': ['Colorless'],...\n",
       "246    [{'name': 'Scratch', 'cost': ['Metal', 'Colorl...\n",
       "247    [{'name': 'Bright Tone', 'cost': ['Fairy', 'Co...\n",
       "248    [{'name': 'Liquid Blow', 'cost': ['Colorless',...\n",
       "249    [{'name': 'Distort', 'cost': ['Darkness', 'Col...\n",
       "Name: attacks, Length: 250, dtype: object"
      ]
     },
     "metadata": {},
     "execution_count": 18
    }
   ],
   "source": [
    "dragons_df['attacks']"
   ]
  },
  {
   "cell_type": "code",
   "execution_count": 19,
   "metadata": {},
   "outputs": [
    {
     "output_type": "execute_result",
     "data": {
      "text/plain": [
       "Index(['id', 'name', 'supertype', 'subtypes', 'hp', 'types', 'evolvesTo',\n",
       "       'attacks', 'weaknesses', 'retreatCost', 'convertedRetreatCost', 'set',\n",
       "       'number', 'artist', 'rarity', 'flavorText', 'nationalPokedexNumbers',\n",
       "       'legalities', 'images', 'tcgplayer', 'evolvesFrom', 'rules',\n",
       "       'abilities', 'level', 'ancientTrait'],\n",
       "      dtype='object')"
      ]
     },
     "metadata": {},
     "execution_count": 19
    }
   ],
   "source": [
    "dragons_df.columns"
   ]
  },
  {
   "cell_type": "code",
   "execution_count": 20,
   "metadata": {},
   "outputs": [],
   "source": [
    "dragons_df.to_csv('data/dragon_cards.csv', columns=dragons_df.columns)"
   ]
  },
  {
   "cell_type": "code",
   "execution_count": null,
   "metadata": {},
   "outputs": [],
   "source": []
  }
 ]
}